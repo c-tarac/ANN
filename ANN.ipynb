{
  "nbformat": 4,
  "nbformat_minor": 0,
  "metadata": {
    "colab": {
      "name": "ANN.ipynb",
      "provenance": []
    },
    "kernelspec": {
      "name": "python3",
      "display_name": "Python 3"
    },
    "language_info": {
      "name": "python"
    }
  },
  "cells": [
    {
      "cell_type": "code",
      "execution_count": 14,
      "metadata": {
        "id": "voYaesqQ2SRD"
      },
      "outputs": [],
      "source": [
        "import torch\n",
        "from torch import nn\n",
        "import torch.nn.functional as f\n"
      ]
    },
    {
      "cell_type": "code",
      "source": [
        "sigmoid = nn.Sigmoid()\n",
        "mse = f.mse_loss"
      ],
      "metadata": {
        "id": "cOpBXLf62V2x"
      },
      "execution_count": 15,
      "outputs": []
    },
    {
      "cell_type": "code",
      "source": [
        "# only one\n",
        "x = torch.tensor([-3.2,4.1,0.163],requires_grad = False)\n",
        "w1 = torch.tensor([[0.1,0.3,0.5],[0.2,0.4,0.6]],requires_grad = True)\n",
        "w2 = torch.tensor([0.7,0.8],requires_grad = True)\n",
        "y = torch.tensor([2.0],requires_grad = False)"
      ],
      "metadata": {
        "id": "97fkkeCA2XUe"
      },
      "execution_count": 16,
      "outputs": []
    },
    {
      "cell_type": "code",
      "source": [
        "# Batch \n",
        "x = torch.tensor([[-3.2,4.1,0.163],[-1.7,3.9,1.35],[-4.16,4.33,0.78],[-2.73,3.14,1.07]],requires_grad = False).reshape(4,3)\n",
        "w1 = torch.tensor([[0.1,0.3,0.5],[0.2,0.4,0.6]],requires_grad = True)\n",
        "w2 = torch.tensor([0.7,0.8],requires_grad = True)\n",
        "y = torch.tensor([2.0,6.2,3.5,4.2],requires_grad = False).reshape(4,1)"
      ],
      "metadata": {
        "id": "yjGHdx4SjAOX"
      },
      "execution_count": 24,
      "outputs": []
    },
    {
      "cell_type": "code",
      "source": [
        "def model(x):\n",
        "    \n",
        "    h = x@w1.t()\n",
        "    g = sigmoid(h)\n",
        "    y = g@w2.t()\n",
        "    \n",
        "    \n",
        "    \n",
        "    return y"
      ],
      "metadata": {
        "id": "5AzbrRB_2ZBY"
      },
      "execution_count": 17,
      "outputs": []
    },
    {
      "cell_type": "code",
      "source": [
        "pred = model(x)\n",
        "pred"
      ],
      "metadata": {
        "colab": {
          "base_uri": "https://localhost:8080/"
        },
        "id": "83AVkIv-2dSa",
        "outputId": "7da083a7-7da0-4883-f321-efbfe6edb983"
      },
      "execution_count": 18,
      "outputs": [
        {
          "output_type": "execute_result",
          "data": {
            "text/plain": [
              "tensor(1.1104, grad_fn=<DotBackward0>)"
            ]
          },
          "metadata": {},
          "execution_count": 18
        }
      ]
    },
    {
      "cell_type": "code",
      "source": [
        "loss = mse(y,pred)\n",
        "print(loss)\n",
        "loss.backward()"
      ],
      "metadata": {
        "colab": {
          "base_uri": "https://localhost:8080/"
        },
        "id": "LNM3fpZu2fLW",
        "outputId": "7e011d65-7b56-4cad-ab4b-cdd42fa564c3"
      },
      "execution_count": 19,
      "outputs": [
        {
          "output_type": "stream",
          "name": "stdout",
          "text": [
            "tensor(0.7913, grad_fn=<MseLossBackward0>)\n"
          ]
        },
        {
          "output_type": "stream",
          "name": "stderr",
          "text": [
            "/usr/local/lib/python3.7/dist-packages/ipykernel_launcher.py:1: UserWarning: Using a target size (torch.Size([])) that is different to the input size (torch.Size([1])). This will likely lead to incorrect results due to broadcasting. Please ensure they have the same size.\n",
            "  \"\"\"Entry point for launching an IPython kernel.\n"
          ]
        }
      ]
    },
    {
      "cell_type": "code",
      "source": [
        "print(w1.grad)"
      ],
      "metadata": {
        "colab": {
          "base_uri": "https://localhost:8080/"
        },
        "id": "_45oGtIr2hUK",
        "outputId": "bc3d5b24-c535-436c-e077-3bc25b766cb0"
      },
      "execution_count": 20,
      "outputs": [
        {
          "output_type": "stream",
          "name": "stdout",
          "text": [
            "tensor([[ 0.7866, -1.0078, -0.0401],\n",
            "        [ 0.8543, -1.0946, -0.0435]])\n"
          ]
        }
      ]
    },
    {
      "cell_type": "code",
      "source": [
        "print(w2.grad)"
      ],
      "metadata": {
        "colab": {
          "base_uri": "https://localhost:8080/"
        },
        "id": "OFmjCpq62jjY",
        "outputId": "fc607cf3-9090-47f3-f38f-39ea78a14bc2"
      },
      "execution_count": 21,
      "outputs": [
        {
          "output_type": "stream",
          "name": "stdout",
          "text": [
            "tensor([-1.2977, -1.3341])\n"
          ]
        }
      ]
    },
    {
      "cell_type": "code",
      "source": [
        "w1-0.5*w1.grad"
      ],
      "metadata": {
        "colab": {
          "base_uri": "https://localhost:8080/"
        },
        "id": "vZgRrxEW23mR",
        "outputId": "254bd7ff-0c87-4380-fdc5-8704ee21954b"
      },
      "execution_count": 22,
      "outputs": [
        {
          "output_type": "execute_result",
          "data": {
            "text/plain": [
              "tensor([[-0.2933,  0.8039,  0.5200],\n",
              "        [-0.2272,  0.9473,  0.6218]], grad_fn=<SubBackward0>)"
            ]
          },
          "metadata": {},
          "execution_count": 22
        }
      ]
    },
    {
      "cell_type": "code",
      "source": [
        "w2-0.5*w2.grad"
      ],
      "metadata": {
        "colab": {
          "base_uri": "https://localhost:8080/"
        },
        "id": "TXbbFQzC25fb",
        "outputId": "1a0050a7-4127-4928-f535-e8dd2356a098"
      },
      "execution_count": 23,
      "outputs": [
        {
          "output_type": "execute_result",
          "data": {
            "text/plain": [
              "tensor([1.3488, 1.4670], grad_fn=<SubBackward0>)"
            ]
          },
          "metadata": {},
          "execution_count": 23
        }
      ]
    }
  ]
}